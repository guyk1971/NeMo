{
  "cells": [
    {
      "cell_type": "code",
      "execution_count": 1,
      "metadata": {
        "colab": {},
        "colab_type": "code",
        "id": "o_0K1lsW1dj9"
      },
      "outputs": [],
      "source": [
        "\"\"\"\n",
        "You can run either this notebook locally (if you have all the dependencies and a GPU) or on Google Colab.\n",
        "\n",
        "Instructions for setting up Colab are as follows:\n",
        "1. Open a new Python 3 notebook.\n",
        "2. Import this notebook from GitHub (File -> Upload Notebook -> \"GITHUB\" tab -> copy/paste GitHub URL)\n",
        "3. Connect to an instance with a GPU (Runtime -> Change runtime type -> select \"GPU\" for hardware accelerator)\n",
        "4. Run this cell to set up dependencies.\n",
        "\"\"\"\n",
        "# If you're using Google Colab and not running locally, run this cell\n",
        "\n",
        "# install NeMo\n",
        "BRANCH = 'main'\n",
        "# !python -m pip install git+https://github.com/NVIDIA/NeMo.git@$BRANCH#egg=nemo_toolkit[nlp]\n"
      ]
    },
    {
      "cell_type": "code",
      "execution_count": null,
      "metadata": {
        "colab": {},
        "colab_type": "code",
        "id": "JFWG-jYCfvD7",
        "pycharm": {
          "name": "#%%\n"
        }
      },
      "outputs": [],
      "source": [
        "# If you're not using Colab, you might need to upgrade jupyter notebook to avoid the following error:\n",
        "# 'ImportError: IProgress not found. Please update jupyter and ipywidgets.'\n",
        "\n",
        "# ! pip install ipywidgets\n",
        "# ! jupyter nbextension enable --py widgetsnbextension\n",
        "\n",
        "# Please restart the kernel after running this cell"
      ]
    },
    {
      "cell_type": "code",
      "execution_count": 2,
      "metadata": {
        "colab": {},
        "colab_type": "code",
        "id": "dzqD2WDFOIN-"
      },
      "outputs": [
        {
          "name": "stderr",
          "output_type": "stream",
          "text": [
            "[NeMo W 2023-09-19 10:10:26 experimental:27] Module <class 'nemo.collections.nlp.models.text_normalization_as_tagging.thutmose_tagger.ThutmoseTaggerModel'> is experimental, not ready for production and is not fully supported. Use at your own risk.\n",
            "[NeMo W 2023-09-19 10:10:27 experimental:27] Module <class 'nemo.collections.asr.modules.audio_modules.SpectrogramToMultichannelFeatures'> is experimental, not ready for production and is not fully supported. Use at your own risk.\n"
          ]
        }
      ],
      "source": [
        "from nemo.collections import nlp as nemo_nlp\n",
        "from nemo.utils.exp_manager import exp_manager\n",
        "\n",
        "import os\n",
        "import wget \n",
        "import torch\n",
        "import pytorch_lightning as pl\n",
        "from omegaconf import OmegaConf"
      ]
    },
    {
      "cell_type": "code",
      "execution_count": 3,
      "metadata": {},
      "outputs": [
        {
          "name": "stdout",
          "output_type": "stream",
          "text": [
            "Tue Sep 19 10:10:35 2023       \n",
            "+---------------------------------------------------------------------------------------+\n",
            "| NVIDIA-SMI 535.86.05              Driver Version: 535.86.05    CUDA Version: 12.2     |\n",
            "|-----------------------------------------+----------------------+----------------------+\n",
            "| GPU  Name                 Persistence-M | Bus-Id        Disp.A | Volatile Uncorr. ECC |\n",
            "| Fan  Temp   Perf          Pwr:Usage/Cap |         Memory-Usage | GPU-Util  Compute M. |\n",
            "|                                         |                      |               MIG M. |\n",
            "|=========================================+======================+======================|\n",
            "|   0  NVIDIA GeForce RTX 2080 Ti     Off | 00000000:17:00.0 Off |                  N/A |\n",
            "| 27%   37C    P8              14W / 250W |      6MiB / 11264MiB |      0%      Default |\n",
            "|                                         |                      |                  N/A |\n",
            "+-----------------------------------------+----------------------+----------------------+\n",
            "|   1  NVIDIA GeForce RTX 2080 Ti     Off | 00000000:65:00.0 Off |                  N/A |\n",
            "| 27%   39C    P8              23W / 250W |     67MiB / 11264MiB |      0%      Default |\n",
            "|                                         |                      |                  N/A |\n",
            "+-----------------------------------------+----------------------+----------------------+\n",
            "                                                                                         \n",
            "+---------------------------------------------------------------------------------------+\n",
            "| Processes:                                                                            |\n",
            "|  GPU   GI   CI        PID   Type   Process name                            GPU Memory |\n",
            "|        ID   ID                                                             Usage      |\n",
            "|=======================================================================================|\n",
            "+---------------------------------------------------------------------------------------+\n"
          ]
        }
      ],
      "source": [
        "!nvidia-smi"
      ]
    },
    {
      "cell_type": "markdown",
      "metadata": {
        "colab_type": "text",
        "id": "daYw_Xll2ZR9"
      },
      "source": [
        "In this tutorial, we are going to describe how to finetune a BERT-like model based on [BERT: Pre-training of Deep Bidirectional Transformers for Language Understanding](https://arxiv.org/abs/1810.04805) on [GLUE: A Multi-Task Benchmark and Analysis Platform for Natural Language Understanding](https://openreview.net/pdf?id=rJ4km2R5t7). \n",
        "\n",
        "# GLUE tasks\n",
        "GLUE Benchmark includes 9 natural language understanding tasks:\n",
        "\n",
        "## Single-Sentence Tasks\n",
        "\n",
        "* CoLA - [The Corpus of Linguistic Acceptability](https://arxiv.org/abs/1805.12471) is a set of English sentences from published linguistics literature. The task is to predict whether a given sentence is grammatically correct or not.\n",
        "* SST-2 - [The Stanford Sentiment Treebank](https://nlp.stanford.edu/~socherr/EMNLP2013_RNTN.pdf) consists of sentences from movie reviews and human annotations of their sentiment. The task is to predict the sentiment of a given sentence: positive or negative.\n",
        "\n",
        "## Similarity and Paraphrase tasks\n",
        "\n",
        "* MRPC - [The Microsoft Research Paraphrase Corpus](https://www.aclweb.org/anthology/I05-5002.pdf) is a corpus of sentence pairs automatically extracted from online news sources, with human annotations for whether the sentences in the pair are semantically equivalent.\n",
        "* QQP - [The Quora Question Pairs](https://www.quora.com/q/quoradata/First-Quora-Dataset-Release-Question-Pairs) dataset is a collection of question pairs from the community question-answering website Quora. The task is to determine whether a pair of questions are semantically equivalent.\n",
        "* STS-B - [The Semantic Textual Similarity Benchmark](https://arxiv.org/abs/1708.00055) is a collection of sentence pairs drawn from news headlines, video, and image captions, and natural language inference data. The task is to determine how similar two sentences are.\n",
        "\n",
        "## Inference Tasks\n",
        "\n",
        "* MNLI - [The Multi-Genre Natural Language Inference Corpus](https://cims.nyu.edu/~sbowman/multinli/multinli_0.9.pdf) is a crowdsourced collection of sentence pairs with textual entailment annotations. Given a premise sentence and a hypothesis sentence, the task is to predict whether the premise entails the hypothesis (entailment), contradicts the hypothesis (contradiction), or neither (neutral). The task has the matched (in-domain) and mismatched (cross-domain) sections.\n",
        "* QNLI - [The Stanford Question Answering Dataset](https://nlp.stanford.edu/pubs/rajpurkar2016squad.pdf) is a question-answering dataset consisting of question-paragraph pairs, where one of the sentences in the paragraph (drawn from Wikipedia) contains the answer to the corresponding question. The task is to determine whether the context sentence contains the answer to the question.\n",
        "* RTE The Recognizing Textual Entailment (RTE) datasets come from a series of annual [textual entailment challenges](https://aclweb.org/aclwiki/Recognizing_Textual_Entailment). The task is to determine whether the second sentence is the entailment of the first one or not.\n",
        "* WNLI - The Winograd Schema Challenge is a reading comprehension task in which a system must read a sentence with a pronoun and select the referent of that pronoun from a list of choices (Hector Levesque, Ernest Davis, and Leora Morgenstern. The winograd schema challenge. In Thirteenth International Conference on the Principles of Knowledge Representation and Reasoning. 2012).\n",
        "\n",
        "All tasks are classification tasks, except for the STS-B task which is a regression task. All classification tasks are 2-class problems, except for the MNLI task which has 3-classes.\n",
        "\n",
        "More details about GLUE benchmark could be found [here](https://gluebenchmark.com/)."
      ]
    },
    {
      "cell_type": "markdown",
      "metadata": {
        "colab_type": "text",
        "id": "ZnuziSwJ1yEB"
      },
      "source": [
        "# Datasets\n",
        "\n",
        "**To proceed further, you need to download the GLUE data.** For example, you can download [this script](https://gist.githubusercontent.com/W4ngatang/60c2bdb54d156a41194446737ce03e2e/raw/17b8dd0d724281ed7c3b2aeeda662b92809aadd5/download_glue_data.py) using `wget` and then execute it by running:\n",
        "\n",
        "`python download_glue_data.py`\n",
        "\n",
        "use `--tasks TASK` if datasets for only selected GLUE tasks are needed\n",
        "\n",
        "After running the above commands, you will have a folder `glue_data` with data folders for every GLUE task. For example, data for MRPC task would be under glue_data/MRPC.\n",
        "\n",
        "This tutorial and [examples/nlp/glue_benchmark/glue_benchmark.py](https://github.com/NVIDIA/NeMo/blob/stable/examples/nlp/glue_benchmark/glue_benchmark.py) work with all GLUE tasks without any modifications. For this tutorial, we are going to use MRPC task.\n",
        "\n",
        "\n",
        "\n"
      ]
    },
    {
      "cell_type": "code",
      "execution_count": 9,
      "metadata": {},
      "outputs": [
        {
          "name": "stdout",
          "output_type": "stream",
          "text": [
            "GLUE  SuperGLUE\n"
          ]
        }
      ],
      "source": [
        "!ls /datasets/nlp"
      ]
    },
    {
      "cell_type": "code",
      "execution_count": 12,
      "metadata": {},
      "outputs": [
        {
          "name": "stdout",
          "output_type": "stream",
          "text": [
            "--2023-09-19 10:21:09--  https://gist.githubusercontent.com/W4ngatang/60c2bdb54d156a41194446737ce03e2e/raw/17b8dd0d724281ed7c3b2aeeda662b92809aadd5/download_glue_data.py\n",
            "Resolving gist.githubusercontent.com (gist.githubusercontent.com)... 185.199.110.133\n",
            "Connecting to gist.githubusercontent.com (gist.githubusercontent.com)|185.199.110.133|:443... connected.\n",
            "HTTP request sent, awaiting response... 200 OK\n",
            "Length: 8225 (8.0K) [text/plain]\n",
            "Saving to: ‘download_glue_data.py’\n",
            "\n",
            "download_glue_data. 100%[===================>]   8.03K  --.-KB/s    in 0s      \n",
            "\n",
            "2023-09-19 10:21:10 (32.8 MB/s) - ‘download_glue_data.py’ saved [8225/8225]\n",
            "\n"
          ]
        }
      ],
      "source": [
        "!mkdir glue_data\n",
        "# get the file\n",
        "!wget https://gist.githubusercontent.com/W4ngatang/60c2bdb54d156a41194446737ce03e2e/raw/17b8dd0d724281ed7c3b2aeeda662b92809aadd5/download_glue_data.py\n",
        "!python download_glue_data.py --data_dir glue_data --tasks MRPC\n",
        "!ls glue_data/MRPC"
      ]
    },
    {
      "cell_type": "code",
      "execution_count": 49,
      "metadata": {
        "colab": {},
        "colab_type": "code",
        "id": "--wJ2891aIIE"
      },
      "outputs": [],
      "source": [
        "# supported task names: [\"cola\", \"sst-2\", \"mrpc\", \"sts-b\", \"qqp\", \"mnli\", \"qnli\", \"rte\", \"wnli\"]\n",
        "TASK = 'mrpc'\n",
        "DATA_DIR = 'glue_data/MRPC'\n",
        "WORK_DIR = \"WORK_DIR\"\n",
        "MODEL_CONFIG = 'glue_benchmark_config.yaml'"
      ]
    },
    {
      "cell_type": "markdown",
      "metadata": {
        "colab_type": "text",
        "id": "gMWuU69pbUDe"
      },
      "source": [
        "For each task, there are 3 files: `train.tsv, dev.tsv, and test.tsv`. Note, MNLI has 2 dev sets: matched and mismatched, evaluation on both dev sets will be done automatically."
      ]
    },
    {
      "cell_type": "code",
      "execution_count": 23,
      "metadata": {
        "colab": {},
        "colab_type": "code",
        "id": "6UDPgadLN6SG"
      },
      "outputs": [
        {
          "name": "stdout",
          "output_type": "stream",
          "text": [
            "Quality\t#1 ID\t#2 ID\t#1 String\t#2 String\n",
            "1\t702876\t702977\tAmrozi accused his brother , whom he called \" the witness \" , of deliberately distorting his evidence .\tReferring to him as only \" the witness \" , Amrozi accused his brother of deliberately distorting his evidence .\n",
            "0\t2108705\t2108831\tYucaipa owned Dominick 's before selling the chain to Safeway in 1998 for $ 2.5 billion .\tYucaipa bought Dominick 's in 1995 for $ 693 million and sold it to Safeway for $ 1.8 billion in 1998 .\n",
            "1\t1330381\t1330521\tThey had published an advertisement on the Internet on June 10 , offering the cargo for sale , he added .\tOn June 10 , the ship 's owners had published an advertisement on the Internet , offering the explosives for sale .\n",
            "0\t3344667\t3344648\tAround 0335 GMT , Tab shares were up 19 cents , or 4.4 % , at A $ 4.56 , having earlier set a record high of A $ 4.57 .\tTab shares jumped 20 cents , or 4.6 % , to set a record closing high at A $ 4.57 .\n"
          ]
        }
      ],
      "source": [
        "# let's take a look at the training data \n",
        "! head -n 5 {DATA_DIR}/train.tsv"
      ]
    },
    {
      "cell_type": "markdown",
      "metadata": {
        "colab_type": "text",
        "id": "_whKCxfTMo6Y"
      },
      "source": [
        "# Model configuration\n",
        "\n",
        "Now, let's take a closer look at the model's configuration and learn to train the model.\n",
        "\n",
        "GLUE model is comprised of the pretrained [BERT](https://arxiv.org/pdf/1810.04805.pdf) model followed by a Sequence Regression module (for STS-B task) or  Sequence classifier module (for the rest of the tasks).\n",
        "\n",
        "The model is defined in a config file which declares multiple important sections. They are:\n",
        "- **model**: All arguments that are related to the Model - language model, a classifier, optimizer and schedulers, datasets and any other related information\n",
        "\n",
        "- **trainer**: Any argument to be passed to PyTorch Lightning"
      ]
    },
    {
      "cell_type": "code",
      "execution_count": 32,
      "metadata": {},
      "outputs": [],
      "source": [
        "config_dir = WORK_DIR + '/configs/'\n",
        "os.makedirs(config_dir, exist_ok=True)\n",
        "!cp /NeMo/examples/nlp/glue_benchmark/$MODEL_CONFIG $config_dir"
      ]
    },
    {
      "cell_type": "code",
      "execution_count": 38,
      "metadata": {
        "colab": {},
        "colab_type": "code",
        "id": "T1gA8PsJ13MJ"
      },
      "outputs": [
        {
          "name": "stdout",
          "output_type": "stream",
          "text": [
            "config file is already exists\n"
          ]
        }
      ],
      "source": [
        "# download the model's configuration file \n",
        "if not os.path.exists(config_dir + MODEL_CONFIG):\n",
        "    print('Downloading config file...')\n",
        "    wget.download(f'https://raw.githubusercontent.com/NVIDIA/NeMo/{BRANCH}/examples/nlp/glue_benchmark/' + MODEL_CONFIG, config_dir)\n",
        "else:\n",
        "    print ('config file is already exists')"
      ]
    },
    {
      "cell_type": "code",
      "execution_count": 39,
      "metadata": {
        "colab": {},
        "colab_type": "code",
        "id": "mX3KmWMvSUQw"
      },
      "outputs": [
        {
          "name": "stdout",
          "output_type": "stream",
          "text": [
            "WORK_DIR/configs/glue_benchmark_config.yaml\n",
            "supported_tasks:\n",
            "- cola\n",
            "- sst-2\n",
            "- mrpc\n",
            "- sts-b\n",
            "- qqp\n",
            "- mnli\n",
            "- qnli\n",
            "- rte\n",
            "- wnli\n",
            "trainer:\n",
            "  devices: 1\n",
            "  num_nodes: 1\n",
            "  max_epochs: 3\n",
            "  max_steps: -1\n",
            "  accumulate_grad_batches: 1\n",
            "  precision: 16\n",
            "  accelerator: gpu\n",
            "  strategy: ddp\n",
            "  enable_checkpointing: false\n",
            "  logger: false\n",
            "model:\n",
            "  task_name: mrpc\n",
            "  supported_tasks:\n",
            "  - cola\n",
            "  - sst-2\n",
            "  - mrpc\n",
            "  - sts-b\n",
            "  - qqp\n",
            "  - mnli\n",
            "  - qnli\n",
            "  - rte\n",
            "  - wnli\n",
            "  output_dir: null\n",
            "  nemo_path: null\n",
            "  dataset:\n",
            "    data_dir: ???\n",
            "    max_seq_length: 128\n",
            "    use_cache: true\n",
            "    num_workers: 2\n",
            "    pin_memory: false\n",
            "    drop_last: false\n",
            "  train_ds:\n",
            "    ds_item: train.tsv\n",
            "    shuffle: true\n",
            "    num_samples: -1\n",
            "    batch_size: 32\n",
            "  validation_ds:\n",
            "    ds_item: dev.tsv\n",
            "    shuffle: false\n",
            "    num_samples: -1\n",
            "    batch_size: 32\n",
            "  tokenizer:\n",
            "    tokenizer_name: ${model.language_model.pretrained_model_name}\n",
            "    vocab_file: null\n",
            "    tokenizer_model: null\n",
            "    special_tokens: null\n",
            "  language_model:\n",
            "    pretrained_model_name: bert-base-uncased\n",
            "    lm_checkpoint: null\n",
            "    config_file: null\n",
            "    config: null\n",
            "  optim:\n",
            "    name: adam\n",
            "    lr: 5.0e-05\n",
            "    weight_decay: 0.0\n",
            "    sched:\n",
            "      name: WarmupAnnealing\n",
            "      warmup_steps: null\n",
            "      warmup_ratio: 0.1\n",
            "      last_epoch: -1\n",
            "      monitor: val_loss\n",
            "      reduce_on_plateau: false\n",
            "exp_manager:\n",
            "  exp_dir: null\n",
            "  name: mrpc\n",
            "  create_tensorboard_logger: true\n",
            "  create_checkpoint_callback: true\n",
            "hydra:\n",
            "  run:\n",
            "    dir: .\n",
            "  job_logging:\n",
            "    root:\n",
            "      handlers: null\n",
            "\n"
          ]
        }
      ],
      "source": [
        "# this line will print the entire config of the model\n",
        "config_path = f'{WORK_DIR}/configs/{MODEL_CONFIG}'\n",
        "print(config_path)\n",
        "config = OmegaConf.load(config_path)\n",
        "print(OmegaConf.to_yaml(config))"
      ]
    },
    {
      "cell_type": "markdown",
      "metadata": {
        "colab_type": "text",
        "id": "ZCgWzNBkaQLZ"
      },
      "source": [
        "# Model Training\n",
        "## Setting up Data within the config\n",
        "\n",
        "Among other things, the config file contains dictionaries called **dataset**, **train_ds** and **validation_ds**. These are configurations used to setup the Dataset and DataLoaders of the corresponding config.\n",
        "\n",
        "We assume that both training and evaluation files are located in the same directory, and use the default names mentioned during the data download step. \n",
        "So, to start model training, we simply need to specify `model.dataset.data_dir`, like we are going to do below.\n",
        "\n",
        "Also notice that some config lines, including `model.dataset.data_dir`, have `???` in place of paths, this means that values for these fields are required to be specified by the user.\n",
        "\n",
        "Let's now add the data directory path, task name and output directory for saving predictions to the config."
      ]
    },
    {
      "cell_type": "code",
      "execution_count": 50,
      "metadata": {
        "colab": {},
        "colab_type": "code",
        "id": "LQHCJN-ZaoLp"
      },
      "outputs": [],
      "source": [
        "config.model.task_name = TASK\n",
        "config.model.output_dir = WORK_DIR\n",
        "config.model.dataset.data_dir = DATA_DIR"
      ]
    },
    {
      "cell_type": "markdown",
      "metadata": {
        "colab_type": "text",
        "id": "nB96-3sTc3yk"
      },
      "source": [
        "## Building the PyTorch Lightning Trainer\n",
        "\n",
        "NeMo models are primarily PyTorch Lightning modules - and therefore are entirely compatible with the PyTorch Lightning ecosystem.\n",
        "\n",
        "Let's first instantiate a Trainer object"
      ]
    },
    {
      "cell_type": "code",
      "execution_count": 41,
      "metadata": {
        "colab": {},
        "colab_type": "code",
        "id": "1tG4FzZ4Ui60"
      },
      "outputs": [
        {
          "name": "stdout",
          "output_type": "stream",
          "text": [
            "Trainer config - \n",
            "\n",
            "devices: 1\n",
            "num_nodes: 1\n",
            "max_epochs: 3\n",
            "max_steps: -1\n",
            "accumulate_grad_batches: 1\n",
            "precision: 16\n",
            "accelerator: gpu\n",
            "strategy: ddp\n",
            "enable_checkpointing: false\n",
            "logger: false\n",
            "\n"
          ]
        }
      ],
      "source": [
        "print(\"Trainer config - \\n\")\n",
        "print(OmegaConf.to_yaml(config.trainer))"
      ]
    },
    {
      "cell_type": "code",
      "execution_count": 44,
      "metadata": {
        "colab": {},
        "colab_type": "code",
        "id": "knF6QeQQdMrH"
      },
      "outputs": [
        {
          "name": "stderr",
          "output_type": "stream",
          "text": [
            "Using 16bit None Automatic Mixed Precision (AMP)\n",
            "GPU available: True (cuda), used: True\n",
            "TPU available: False, using: 0 TPU cores\n",
            "IPU available: False, using: 0 IPUs\n",
            "HPU available: False, using: 0 HPUs\n"
          ]
        }
      ],
      "source": [
        "# lets modify some trainer configs\n",
        "# checks if we have GPU available and uses it\n",
        "accelerator = 'gpu' if torch.cuda.is_available() else 'cpu'\n",
        "config.trainer.devices = 1\n",
        "config.trainer.accelerator = accelerator\n",
        "\n",
        "config.trainer.precision = 16 if torch.cuda.is_available() else 32\n",
        "\n",
        "# for mixed precision training, uncomment the line below (precision should be set to 16 and amp_level to O1):\n",
        "# config.trainer.amp_level = O1\n",
        "\n",
        "# remove distributed training flags\n",
        "config.trainer.strategy = None\n",
        "\n",
        "# setup max number of steps to reduce training time for demonstration purposes of this tutorial\n",
        "config.trainer.max_steps = 128\n",
        "\n",
        "trainer = pl.Trainer(**config.trainer)"
      ]
    },
    {
      "cell_type": "markdown",
      "metadata": {
        "colab_type": "text",
        "id": "8IlEMdVxdr6p"
      },
      "source": [
        "## Setting up a NeMo Experiment\n",
        "\n",
        "NeMo has an experiment manager that handles logging and checkpointing for us, so let's use it:"
      ]
    },
    {
      "cell_type": "code",
      "execution_count": 45,
      "metadata": {
        "colab": {},
        "colab_type": "code",
        "id": "8uztqGAmdrYt"
      },
      "outputs": [
        {
          "name": "stdout",
          "output_type": "stream",
          "text": [
            "[NeMo I 2023-09-19 10:59:17 exp_manager:374] Experiments will be logged at /workspace/nemo/nemo_experiments/mrpc/2023-09-19_10-59-17\n",
            "[NeMo I 2023-09-19 10:59:17 exp_manager:797] TensorboardLogger has been set up\n"
          ]
        },
        {
          "name": "stderr",
          "output_type": "stream",
          "text": [
            "[NeMo W 2023-09-19 10:59:17 exp_manager:893] The checkpoint callback was told to monitor a validation value and trainer's max_steps was set to 128. Please ensure that max_steps will run for at least 1 epochs to ensure that checkpointing will not error out.\n"
          ]
        },
        {
          "data": {
            "text/plain": [
              "'/workspace/nemo/nemo_experiments/mrpc/2023-09-19_10-59-17'"
            ]
          },
          "execution_count": 45,
          "metadata": {},
          "output_type": "execute_result"
        }
      ],
      "source": [
        "exp_dir = exp_manager(trainer, config.get(\"exp_manager\", None))\n",
        "\n",
        "# the exp_dir provides a path to the current experiment for easy access\n",
        "exp_dir = str(exp_dir)\n",
        "exp_dir"
      ]
    },
    {
      "cell_type": "markdown",
      "metadata": {
        "colab_type": "text",
        "id": "8tjLhUvL_o7_"
      },
      "source": [
        "Before initializing the model, we might want to modify some of the model configs. For example, we might want to modify the pretrained BERT model and use [Megatron-LM BERT](https://arxiv.org/abs/1909.08053) or [AlBERT model](https://arxiv.org/abs/1909.11942):"
      ]
    },
    {
      "cell_type": "code",
      "execution_count": 46,
      "metadata": {
        "colab": {},
        "colab_type": "code",
        "id": "Xeuc2i7Y_nP5"
      },
      "outputs": [
        {
          "name": "stdout",
          "output_type": "stream",
          "text": [
            "['bert-base-uncased', 'bert-large-uncased', 'bert-base-cased', 'bert-large-cased', 'bert-base-multilingual-uncased', 'bert-base-multilingual-cased', 'bert-base-chinese', 'bert-base-german-cased', 'bert-large-uncased-whole-word-masking', 'bert-large-cased-whole-word-masking', 'bert-large-uncased-whole-word-masking-finetuned-squad', 'bert-large-cased-whole-word-masking-finetuned-squad', 'bert-base-cased-finetuned-mrpc', 'bert-base-german-dbmdz-cased', 'bert-base-german-dbmdz-uncased', 'cl-tohoku/bert-base-japanese', 'cl-tohoku/bert-base-japanese-whole-word-masking', 'cl-tohoku/bert-base-japanese-char', 'cl-tohoku/bert-base-japanese-char-whole-word-masking', 'TurkuNLP/bert-base-finnish-cased-v1', 'TurkuNLP/bert-base-finnish-uncased-v1', 'wietsedv/bert-base-dutch-cased', 'distilbert-base-uncased', 'distilbert-base-uncased-distilled-squad', 'distilbert-base-cased', 'distilbert-base-cased-distilled-squad', 'distilbert-base-german-cased', 'distilbert-base-multilingual-cased', 'distilbert-base-uncased-finetuned-sst-2-english', 'camembert-base', 'Musixmatch/umberto-commoncrawl-cased-v1', 'Musixmatch/umberto-wikipedia-uncased-v1', 'roberta-base', 'roberta-large', 'roberta-large-mnli', 'distilroberta-base', 'roberta-base-openai-detector', 'roberta-large-openai-detector', 'albert-base-v1', 'albert-large-v1', 'albert-xlarge-v1', 'albert-xxlarge-v1', 'albert-base-v2', 'albert-large-v2', 'albert-xlarge-v2', 'albert-xxlarge-v2', 'gpt2', 'gpt2-medium', 'gpt2-large', 'gpt2-xl', 'distilgpt2']\n"
          ]
        }
      ],
      "source": [
        "# get the list of supported BERT-like models, for the complete list of HugginFace models, see https://huggingface.co/models\n",
        "print(nemo_nlp.modules.get_pretrained_lm_models_list(include_external=True))\n",
        "\n",
        "# specify BERT-like model, you want to use, for example, \"megatron-bert-345m-uncased\" or 'bert-base-uncased'\n",
        "PRETRAINED_BERT_MODEL = \"albert-base-v1\""
      ]
    },
    {
      "cell_type": "code",
      "execution_count": 47,
      "metadata": {
        "colab": {},
        "colab_type": "code",
        "id": "RK2xglXyAUOO"
      },
      "outputs": [],
      "source": [
        "# add the specified above model parameters to the config\n",
        "config.model.language_model.pretrained_model_name = PRETRAINED_BERT_MODEL"
      ]
    },
    {
      "cell_type": "markdown",
      "metadata": {
        "colab_type": "text",
        "id": "fzNZNAVRjDD-"
      },
      "source": [
        "Now, we are ready to initialize our model. During the model initialization call, the dataset and data loaders we'll be prepared for training and evaluation.\n",
        "Also, the pretrained BERT model will be downloaded, note it can take up to a few minutes depending on the size of the chosen BERT model."
      ]
    },
    {
      "cell_type": "code",
      "execution_count": 51,
      "metadata": {
        "colab": {},
        "colab_type": "code",
        "id": "NgsGLydWo-6-"
      },
      "outputs": [
        {
          "name": "stdout",
          "output_type": "stream",
          "text": [
            "[NeMo I 2023-09-19 11:02:13 glue_benchmark_model:97] Using glue_data/MRPC/dev.tsv for model evaluation.\n",
            "[NeMo I 2023-09-19 11:02:13 tokenizer_utils:130] Getting HuggingFace AutoTokenizer with pretrained_model_name: albert-base-v1, vocab_file: None, merges_files: None, special_tokens_dict: {}, and use_fast: False\n"
          ]
        },
        {
          "data": {
            "application/vnd.jupyter.widget-view+json": {
              "model_id": "954f8930fdb14777a015574d59015aad",
              "version_major": 2,
              "version_minor": 0
            },
            "text/plain": [
              "Downloading (…)lve/main/config.json:   0%|          | 0.00/684 [00:00<?, ?B/s]"
            ]
          },
          "metadata": {},
          "output_type": "display_data"
        },
        {
          "data": {
            "application/vnd.jupyter.widget-view+json": {
              "model_id": "8618c0b8c774420db6b9bd807929aa8a",
              "version_major": 2,
              "version_minor": 0
            },
            "text/plain": [
              "Downloading (…)ve/main/spiece.model:   0%|          | 0.00/760k [00:00<?, ?B/s]"
            ]
          },
          "metadata": {},
          "output_type": "display_data"
        },
        {
          "name": "stderr",
          "output_type": "stream",
          "text": [
            "[NeMo W 2023-09-19 11:02:16 modelPT:244] You tried to register an artifact under config key=tokenizer.vocab_file but an artifact for it has already been registered.\n"
          ]
        },
        {
          "name": "stdout",
          "output_type": "stream",
          "text": [
            "[NeMo I 2023-09-19 11:02:16 glue_benchmark_dataset:119] Processing glue_data/MRPC/train.tsv\n",
            "[NeMo I 2023-09-19 11:02:16 data_processors:42] LOOKING AT glue_data/MRPC/train.tsv\n",
            "[NeMo I 2023-09-19 11:02:16 glue_benchmark_dataset:256] Writing example 0 of 3668\n",
            "[NeMo I 2023-09-19 11:02:16 glue_benchmark_dataset:338] *** Example ***\n",
            "[NeMo I 2023-09-19 11:02:16 glue_benchmark_dataset:339] guid: train-1\n",
            "[NeMo I 2023-09-19 11:02:16 glue_benchmark_dataset:340] tokens: [CLS] ▁am ro zi ▁accused ▁his ▁brother ▁ , ▁whom ▁he ▁called ▁ \" ▁the ▁witness ▁ \" ▁ , ▁of ▁deliberately ▁dis tor ting ▁his ▁evidence ▁ . [SEP] ▁referring ▁to ▁him ▁as ▁only ▁ \" ▁the ▁witness ▁ \" ▁ , ▁am ro zi ▁accused ▁his ▁brother ▁of ▁deliberately ▁dis tor ting ▁his ▁evidence ▁ . [SEP]\n",
            "[NeMo I 2023-09-19 11:02:16 glue_benchmark_dataset:341] input_ids: 2 589 661 2553 4125 33 655 13 15 1368 24 227 13 7 14 6165 13 7 13 15 16 10155 1460 2153 1203 33 1445 13 9 3 7378 20 61 28 104 13 7 14 6165 13 7 13 15 589 661 2553 4125 33 655 16 10155 1460 2153 1203 33 1445 13 9 3 0 0 0 0 0 0 0 0 0 0 0 0 0 0 0 0 0 0 0 0 0 0 0 0 0 0 0 0 0 0 0 0 0 0 0 0 0 0 0 0 0 0 0 0 0 0 0 0 0 0 0 0 0 0 0 0 0 0 0 0 0 0 0 0 0 0 0 0 0\n",
            "[NeMo I 2023-09-19 11:02:16 glue_benchmark_dataset:342] input_mask: 1 1 1 1 1 1 1 1 1 1 1 1 1 1 1 1 1 1 1 1 1 1 1 1 1 1 1 1 1 1 1 1 1 1 1 1 1 1 1 1 1 1 1 1 1 1 1 1 1 1 1 1 1 1 1 1 1 1 1 0 0 0 0 0 0 0 0 0 0 0 0 0 0 0 0 0 0 0 0 0 0 0 0 0 0 0 0 0 0 0 0 0 0 0 0 0 0 0 0 0 0 0 0 0 0 0 0 0 0 0 0 0 0 0 0 0 0 0 0 0 0 0 0 0 0 0 0 0\n",
            "[NeMo I 2023-09-19 11:02:16 glue_benchmark_dataset:343] segment_ids: 0 0 0 0 0 0 0 0 0 0 0 0 0 0 0 0 0 0 0 0 0 0 0 0 0 0 0 0 0 0 1 1 1 1 1 1 1 1 1 1 1 1 1 1 1 1 1 1 1 1 1 1 1 1 1 1 1 1 1 0 0 0 0 0 0 0 0 0 0 0 0 0 0 0 0 0 0 0 0 0 0 0 0 0 0 0 0 0 0 0 0 0 0 0 0 0 0 0 0 0 0 0 0 0 0 0 0 0 0 0 0 0 0 0 0 0 0 0 0 0 0 0 0 0 0 0 0 0\n",
            "[NeMo I 2023-09-19 11:02:16 glue_benchmark_dataset:344] label: 1 (id = 1)\n",
            "[NeMo I 2023-09-19 11:02:16 glue_benchmark_dataset:338] *** Example ***\n",
            "[NeMo I 2023-09-19 11:02:16 glue_benchmark_dataset:339] guid: train-2\n",
            "[NeMo I 2023-09-19 11:02:16 glue_benchmark_dataset:340] tokens: [CLS] ▁yu ca ipa ▁owned ▁dominic k ▁ ' s ▁before ▁selling ▁the ▁chain ▁to ▁safe way ▁in ▁1998 ▁for ▁$ ▁2 . 5 ▁billion ▁ . [SEP] ▁yu ca ipa ▁bought ▁dominic k ▁ ' s ▁in ▁1995 ▁for ▁$ ▁6 93 ▁million ▁and ▁sold ▁it ▁to ▁safe way ▁for ▁$ ▁1 . 8 ▁billion ▁in ▁1998 ▁ . [SEP]\n",
            "[NeMo I 2023-09-19 11:02:16 glue_benchmark_dataset:341] input_ids: 2 2600 793 15796 1467 9548 197 13 22 18 115 4355 14 2858 20 1834 1443 19 1315 26 5579 172 9 264 2786 13 9 3 2600 793 15796 2448 9548 197 13 22 18 19 1485 26 5579 400 4069 507 17 945 32 20 1834 1443 26 5579 137 9 457 2786 19 1315 13 9 3 0 0 0 0 0 0 0 0 0 0 0 0 0 0 0 0 0 0 0 0 0 0 0 0 0 0 0 0 0 0 0 0 0 0 0 0 0 0 0 0 0 0 0 0 0 0 0 0 0 0 0 0 0 0 0 0 0 0 0 0 0 0 0 0 0 0 0\n",
            "[NeMo I 2023-09-19 11:02:16 glue_benchmark_dataset:342] input_mask: 1 1 1 1 1 1 1 1 1 1 1 1 1 1 1 1 1 1 1 1 1 1 1 1 1 1 1 1 1 1 1 1 1 1 1 1 1 1 1 1 1 1 1 1 1 1 1 1 1 1 1 1 1 1 1 1 1 1 1 1 1 0 0 0 0 0 0 0 0 0 0 0 0 0 0 0 0 0 0 0 0 0 0 0 0 0 0 0 0 0 0 0 0 0 0 0 0 0 0 0 0 0 0 0 0 0 0 0 0 0 0 0 0 0 0 0 0 0 0 0 0 0 0 0 0 0 0 0\n",
            "[NeMo I 2023-09-19 11:02:16 glue_benchmark_dataset:343] segment_ids: 0 0 0 0 0 0 0 0 0 0 0 0 0 0 0 0 0 0 0 0 0 0 0 0 0 0 0 0 1 1 1 1 1 1 1 1 1 1 1 1 1 1 1 1 1 1 1 1 1 1 1 1 1 1 1 1 1 1 1 1 1 0 0 0 0 0 0 0 0 0 0 0 0 0 0 0 0 0 0 0 0 0 0 0 0 0 0 0 0 0 0 0 0 0 0 0 0 0 0 0 0 0 0 0 0 0 0 0 0 0 0 0 0 0 0 0 0 0 0 0 0 0 0 0 0 0 0 0\n",
            "[NeMo I 2023-09-19 11:02:16 glue_benchmark_dataset:344] label: 0 (id = 0)\n",
            "[NeMo I 2023-09-19 11:02:16 glue_benchmark_dataset:338] *** Example ***\n",
            "[NeMo I 2023-09-19 11:02:16 glue_benchmark_dataset:339] guid: train-3\n",
            "[NeMo I 2023-09-19 11:02:16 glue_benchmark_dataset:340] tokens: [CLS] ▁they ▁had ▁published ▁an ▁advertisement ▁on ▁the ▁internet ▁on ▁june ▁10 ▁ , ▁offering ▁the ▁cargo ▁for ▁sale ▁ , ▁he ▁added ▁ . [SEP] ▁on ▁june ▁10 ▁ , ▁the ▁ship ▁ ' s ▁owners ▁had ▁published ▁an ▁advertisement ▁on ▁the ▁internet ▁ , ▁offering ▁the ▁explosives ▁for ▁sale ▁ . [SEP]\n",
            "[NeMo I 2023-09-19 11:02:16 glue_benchmark_dataset:341] input_ids: 2 59 41 467 40 17128 27 14 2620 27 295 332 13 15 4090 14 5570 26 3299 13 15 24 905 13 9 3 27 295 332 13 15 14 995 13 22 18 4515 41 467 40 17128 27 14 2620 13 15 4090 14 17256 26 3299 13 9 3 0 0 0 0 0 0 0 0 0 0 0 0 0 0 0 0 0 0 0 0 0 0 0 0 0 0 0 0 0 0 0 0 0 0 0 0 0 0 0 0 0 0 0 0 0 0 0 0 0 0 0 0 0 0 0 0 0 0 0 0 0 0 0 0 0 0 0 0 0 0 0 0 0 0\n",
            "[NeMo I 2023-09-19 11:02:16 glue_benchmark_dataset:342] input_mask: 1 1 1 1 1 1 1 1 1 1 1 1 1 1 1 1 1 1 1 1 1 1 1 1 1 1 1 1 1 1 1 1 1 1 1 1 1 1 1 1 1 1 1 1 1 1 1 1 1 1 1 1 1 1 0 0 0 0 0 0 0 0 0 0 0 0 0 0 0 0 0 0 0 0 0 0 0 0 0 0 0 0 0 0 0 0 0 0 0 0 0 0 0 0 0 0 0 0 0 0 0 0 0 0 0 0 0 0 0 0 0 0 0 0 0 0 0 0 0 0 0 0 0 0 0 0 0 0\n",
            "[NeMo I 2023-09-19 11:02:16 glue_benchmark_dataset:343] segment_ids: 0 0 0 0 0 0 0 0 0 0 0 0 0 0 0 0 0 0 0 0 0 0 0 0 0 0 1 1 1 1 1 1 1 1 1 1 1 1 1 1 1 1 1 1 1 1 1 1 1 1 1 1 1 1 0 0 0 0 0 0 0 0 0 0 0 0 0 0 0 0 0 0 0 0 0 0 0 0 0 0 0 0 0 0 0 0 0 0 0 0 0 0 0 0 0 0 0 0 0 0 0 0 0 0 0 0 0 0 0 0 0 0 0 0 0 0 0 0 0 0 0 0 0 0 0 0 0 0\n",
            "[NeMo I 2023-09-19 11:02:16 glue_benchmark_dataset:344] label: 1 (id = 1)\n",
            "[NeMo I 2023-09-19 11:02:16 glue_benchmark_dataset:338] *** Example ***\n",
            "[NeMo I 2023-09-19 11:02:16 glue_benchmark_dataset:339] guid: train-4\n",
            "[NeMo I 2023-09-19 11:02:16 glue_benchmark_dataset:340] tokens: [CLS] ▁around ▁0 335 ▁gm t ▁ , ▁tab ▁shares ▁were ▁up ▁19 ▁cent s ▁ , ▁or ▁4 . 4 ▁ % ▁ , ▁at ▁a ▁$ ▁4 . 56 ▁ , ▁having ▁earlier ▁set ▁a ▁record ▁high ▁of ▁a ▁$ ▁4 . 57 ▁ . [SEP] ▁tab ▁shares ▁jumped ▁20 ▁cent s ▁ , ▁or ▁4 . 6 ▁ % ▁ , ▁to ▁set ▁a ▁record ▁closing ▁high ▁at ▁a ▁$ ▁4 . 57 ▁ . [SEP]\n",
            "[NeMo I 2023-09-19 11:02:16 glue_benchmark_dataset:341] input_ids: 2 140 713 22651 12600 38 13 15 6523 5945 46 71 732 5802 18 13 15 54 268 9 300 13 11881 13 15 35 21 5579 268 9 3776 13 15 452 1201 309 21 571 183 16 21 5579 268 9 4219 13 9 3 6523 5945 4298 434 5802 18 13 15 54 268 9 379 13 11881 13 15 20 309 21 571 4239 183 35 21 5579 268 9 4219 13 9 3 0 0 0 0 0 0 0 0 0 0 0 0 0 0 0 0 0 0 0 0 0 0 0 0 0 0 0 0 0 0 0 0 0 0 0 0 0 0 0 0 0 0 0 0 0 0 0 0 0\n",
            "[NeMo I 2023-09-19 11:02:16 glue_benchmark_dataset:342] input_mask: 1 1 1 1 1 1 1 1 1 1 1 1 1 1 1 1 1 1 1 1 1 1 1 1 1 1 1 1 1 1 1 1 1 1 1 1 1 1 1 1 1 1 1 1 1 1 1 1 1 1 1 1 1 1 1 1 1 1 1 1 1 1 1 1 1 1 1 1 1 1 1 1 1 1 1 1 1 1 1 0 0 0 0 0 0 0 0 0 0 0 0 0 0 0 0 0 0 0 0 0 0 0 0 0 0 0 0 0 0 0 0 0 0 0 0 0 0 0 0 0 0 0 0 0 0 0 0 0\n",
            "[NeMo I 2023-09-19 11:02:16 glue_benchmark_dataset:343] segment_ids: 0 0 0 0 0 0 0 0 0 0 0 0 0 0 0 0 0 0 0 0 0 0 0 0 0 0 0 0 0 0 0 0 0 0 0 0 0 0 0 0 0 0 0 0 0 0 0 0 1 1 1 1 1 1 1 1 1 1 1 1 1 1 1 1 1 1 1 1 1 1 1 1 1 1 1 1 1 1 1 0 0 0 0 0 0 0 0 0 0 0 0 0 0 0 0 0 0 0 0 0 0 0 0 0 0 0 0 0 0 0 0 0 0 0 0 0 0 0 0 0 0 0 0 0 0 0 0 0\n",
            "[NeMo I 2023-09-19 11:02:16 glue_benchmark_dataset:344] label: 0 (id = 0)\n",
            "[NeMo I 2023-09-19 11:02:16 glue_benchmark_dataset:338] *** Example ***\n",
            "[NeMo I 2023-09-19 11:02:16 glue_benchmark_dataset:339] guid: train-5\n",
            "[NeMo I 2023-09-19 11:02:16 glue_benchmark_dataset:340] tokens: [CLS] ▁the ▁stock ▁rose ▁$ ▁2 . 11 ▁ , ▁or ▁about ▁11 ▁percent ▁ , ▁to ▁close ▁friday ▁at ▁$ ▁21 . 51 ▁on ▁the ▁new ▁york ▁stock ▁exchange ▁ . [SEP] ▁ pg ▁& ▁ e ▁corp . ▁shares ▁jumped ▁$ ▁1 . 63 ▁or ▁8 ▁percent ▁to ▁$ ▁21 . 03 ▁on ▁the ▁new ▁york ▁stock ▁exchange ▁on ▁friday ▁ . [SEP]\n",
            "[NeMo I 2023-09-19 11:02:16 glue_benchmark_dataset:341] input_ids: 2 14 2070 1092 5579 172 9 1306 13 15 54 88 547 2091 13 15 20 543 4619 35 5579 852 9 4246 27 14 78 305 2070 1950 13 9 3 13 9623 279 13 62 12995 9 5945 4298 5579 137 9 3891 54 469 2091 20 5579 852 9 3601 27 14 78 305 2070 1950 27 4619 13 9 3 0 0 0 0 0 0 0 0 0 0 0 0 0 0 0 0 0 0 0 0 0 0 0 0 0 0 0 0 0 0 0 0 0 0 0 0 0 0 0 0 0 0 0 0 0 0 0 0 0 0 0 0 0 0 0 0 0 0 0 0 0 0 0\n",
            "[NeMo I 2023-09-19 11:02:16 glue_benchmark_dataset:342] input_mask: 1 1 1 1 1 1 1 1 1 1 1 1 1 1 1 1 1 1 1 1 1 1 1 1 1 1 1 1 1 1 1 1 1 1 1 1 1 1 1 1 1 1 1 1 1 1 1 1 1 1 1 1 1 1 1 1 1 1 1 1 1 1 1 1 1 0 0 0 0 0 0 0 0 0 0 0 0 0 0 0 0 0 0 0 0 0 0 0 0 0 0 0 0 0 0 0 0 0 0 0 0 0 0 0 0 0 0 0 0 0 0 0 0 0 0 0 0 0 0 0 0 0 0 0 0 0 0 0\n",
            "[NeMo I 2023-09-19 11:02:16 glue_benchmark_dataset:343] segment_ids: 0 0 0 0 0 0 0 0 0 0 0 0 0 0 0 0 0 0 0 0 0 0 0 0 0 0 0 0 0 0 0 0 0 1 1 1 1 1 1 1 1 1 1 1 1 1 1 1 1 1 1 1 1 1 1 1 1 1 1 1 1 1 1 1 1 0 0 0 0 0 0 0 0 0 0 0 0 0 0 0 0 0 0 0 0 0 0 0 0 0 0 0 0 0 0 0 0 0 0 0 0 0 0 0 0 0 0 0 0 0 0 0 0 0 0 0 0 0 0 0 0 0 0 0 0 0 0 0\n",
            "[NeMo I 2023-09-19 11:02:16 glue_benchmark_dataset:344] label: 1 (id = 1)\n",
            "[NeMo I 2023-09-19 11:02:18 glue_benchmark_dataset:174] Saving train features into glue_data/MRPC/cached_MrpcProcessor_train_AlbertTokenizer_128_30000\n",
            "[NeMo I 2023-09-19 11:02:18 glue_benchmark_dataset:119] Processing glue_data/MRPC/dev.tsv\n",
            "[NeMo I 2023-09-19 11:02:18 glue_benchmark_dataset:256] Writing example 0 of 408\n",
            "[NeMo I 2023-09-19 11:02:18 glue_benchmark_dataset:338] *** Example ***\n",
            "[NeMo I 2023-09-19 11:02:18 glue_benchmark_dataset:339] guid: dev-1\n",
            "[NeMo I 2023-09-19 11:02:18 glue_benchmark_dataset:340] tokens: [CLS] ▁he ▁said ▁the ▁food service ▁pie ▁business ▁doesn ▁ ' t ▁fit ▁the ▁company ▁ ' s ▁long - term ▁growth ▁strategy ▁ . [SEP] ▁ \" ▁the ▁food service ▁pie ▁business ▁does ▁not ▁fit ▁our ▁long - term ▁growth ▁strategy ▁ . [SEP]\n",
            "[NeMo I 2023-09-19 11:02:18 glue_benchmark_dataset:341] input_ids: 2 24 87 14 950 11449 5470 508 1437 13 22 38 2742 14 237 13 22 18 175 8 3964 2232 4427 13 9 3 13 7 14 950 11449 5470 508 630 52 2742 318 175 8 3964 2232 4427 13 9 3 0 0 0 0 0 0 0 0 0 0 0 0 0 0 0 0 0 0 0 0 0 0 0 0 0 0 0 0 0 0 0 0 0 0 0 0 0 0 0 0 0 0 0 0 0 0 0 0 0 0 0 0 0 0 0 0 0 0 0 0 0 0 0 0 0 0 0 0 0 0 0 0 0 0 0 0 0 0 0 0 0 0 0\n",
            "[NeMo I 2023-09-19 11:02:18 glue_benchmark_dataset:342] input_mask: 1 1 1 1 1 1 1 1 1 1 1 1 1 1 1 1 1 1 1 1 1 1 1 1 1 1 1 1 1 1 1 1 1 1 1 1 1 1 1 1 1 1 1 1 1 0 0 0 0 0 0 0 0 0 0 0 0 0 0 0 0 0 0 0 0 0 0 0 0 0 0 0 0 0 0 0 0 0 0 0 0 0 0 0 0 0 0 0 0 0 0 0 0 0 0 0 0 0 0 0 0 0 0 0 0 0 0 0 0 0 0 0 0 0 0 0 0 0 0 0 0 0 0 0 0 0 0 0\n",
            "[NeMo I 2023-09-19 11:02:18 glue_benchmark_dataset:343] segment_ids: 0 0 0 0 0 0 0 0 0 0 0 0 0 0 0 0 0 0 0 0 0 0 0 0 0 0 1 1 1 1 1 1 1 1 1 1 1 1 1 1 1 1 1 1 1 0 0 0 0 0 0 0 0 0 0 0 0 0 0 0 0 0 0 0 0 0 0 0 0 0 0 0 0 0 0 0 0 0 0 0 0 0 0 0 0 0 0 0 0 0 0 0 0 0 0 0 0 0 0 0 0 0 0 0 0 0 0 0 0 0 0 0 0 0 0 0 0 0 0 0 0 0 0 0 0 0 0 0\n",
            "[NeMo I 2023-09-19 11:02:18 glue_benchmark_dataset:344] label: 1 (id = 1)\n",
            "[NeMo I 2023-09-19 11:02:18 glue_benchmark_dataset:338] *** Example ***\n",
            "[NeMo I 2023-09-19 11:02:18 glue_benchmark_dataset:339] guid: dev-2\n",
            "[NeMo I 2023-09-19 11:02:18 glue_benchmark_dataset:340] tokens: [CLS] ▁magna relli ▁said ▁ rac ico t ▁hated ▁the ▁iraqi ▁regime ▁and ▁looked ▁forward ▁to ▁using ▁his ▁long ▁years ▁of ▁training ▁in ▁the ▁war ▁ . [SEP] ▁his ▁wife ▁said ▁he ▁was ▁ \" ▁100 ▁percent ▁behind ▁george ▁bush ▁ \" ▁and ▁looked ▁forward ▁to ▁using ▁his ▁years ▁of ▁training ▁in ▁the ▁war ▁ . [SEP]\n",
            "[NeMo I 2023-09-19 11:02:18 glue_benchmark_dataset:341] input_ids: 2 18023 18802 87 13 5797 7776 38 5285 14 8567 5136 17 292 917 20 568 33 175 122 16 838 19 14 176 13 9 3 33 663 87 24 23 13 7 808 2091 439 665 3382 13 7 17 292 917 20 568 33 122 16 838 19 14 176 13 9 3 0 0 0 0 0 0 0 0 0 0 0 0 0 0 0 0 0 0 0 0 0 0 0 0 0 0 0 0 0 0 0 0 0 0 0 0 0 0 0 0 0 0 0 0 0 0 0 0 0 0 0 0 0 0 0 0 0 0 0 0 0 0 0 0 0 0 0 0 0 0 0\n",
            "[NeMo I 2023-09-19 11:02:18 glue_benchmark_dataset:342] input_mask: 1 1 1 1 1 1 1 1 1 1 1 1 1 1 1 1 1 1 1 1 1 1 1 1 1 1 1 1 1 1 1 1 1 1 1 1 1 1 1 1 1 1 1 1 1 1 1 1 1 1 1 1 1 1 1 1 1 0 0 0 0 0 0 0 0 0 0 0 0 0 0 0 0 0 0 0 0 0 0 0 0 0 0 0 0 0 0 0 0 0 0 0 0 0 0 0 0 0 0 0 0 0 0 0 0 0 0 0 0 0 0 0 0 0 0 0 0 0 0 0 0 0 0 0 0 0 0 0\n",
            "[NeMo I 2023-09-19 11:02:18 glue_benchmark_dataset:343] segment_ids: 0 0 0 0 0 0 0 0 0 0 0 0 0 0 0 0 0 0 0 0 0 0 0 0 0 0 0 0 1 1 1 1 1 1 1 1 1 1 1 1 1 1 1 1 1 1 1 1 1 1 1 1 1 1 1 1 1 0 0 0 0 0 0 0 0 0 0 0 0 0 0 0 0 0 0 0 0 0 0 0 0 0 0 0 0 0 0 0 0 0 0 0 0 0 0 0 0 0 0 0 0 0 0 0 0 0 0 0 0 0 0 0 0 0 0 0 0 0 0 0 0 0 0 0 0 0 0 0\n",
            "[NeMo I 2023-09-19 11:02:18 glue_benchmark_dataset:344] label: 0 (id = 0)\n",
            "[NeMo I 2023-09-19 11:02:18 glue_benchmark_dataset:338] *** Example ***\n",
            "[NeMo I 2023-09-19 11:02:18 glue_benchmark_dataset:339] guid: dev-3\n",
            "[NeMo I 2023-09-19 11:02:18 glue_benchmark_dataset:340] tokens: [CLS] ▁the ▁dollar ▁was ▁at ▁ 116 . 92 ▁ yen ▁against ▁the ▁ yen ▁ , ▁flat ▁on ▁the ▁session ▁ , ▁and ▁at ▁1 . 289 1 ▁against ▁the ▁swiss ▁ franc ▁ , ▁also ▁flat ▁ . [SEP] ▁the ▁dollar ▁was ▁at ▁ 116 . 78 ▁ yen ▁j py ▁= ▁ , ▁virtually ▁flat ▁on ▁the ▁session ▁ , ▁and ▁at ▁1 . 287 1 ▁against ▁the ▁swiss ▁ franc ▁ch f ▁= ▁ , ▁down ▁0 . 1 ▁percent ▁ . [SEP]\n",
            "[NeMo I 2023-09-19 11:02:18 glue_benchmark_dataset:341] input_ids: 2 14 9311 23 35 13 11343 9 4327 13 8944 149 14 13 8944 13 15 1844 27 14 3723 13 15 17 35 137 9 25139 165 149 14 4313 13 8994 13 15 67 1844 13 9 3 14 9311 23 35 13 11343 9 4130 13 8944 487 6448 800 13 15 9149 1844 27 14 3723 13 15 17 35 137 9 23114 165 149 14 4313 13 8994 6193 410 800 13 15 125 713 9 165 2091 13 9 3 0 0 0 0 0 0 0 0 0 0 0 0 0 0 0 0 0 0 0 0 0 0 0 0 0 0 0 0 0 0 0 0 0 0 0 0 0 0 0 0 0\n",
            "[NeMo I 2023-09-19 11:02:18 glue_benchmark_dataset:342] input_mask: 1 1 1 1 1 1 1 1 1 1 1 1 1 1 1 1 1 1 1 1 1 1 1 1 1 1 1 1 1 1 1 1 1 1 1 1 1 1 1 1 1 1 1 1 1 1 1 1 1 1 1 1 1 1 1 1 1 1 1 1 1 1 1 1 1 1 1 1 1 1 1 1 1 1 1 1 1 1 1 1 1 1 1 1 1 1 1 0 0 0 0 0 0 0 0 0 0 0 0 0 0 0 0 0 0 0 0 0 0 0 0 0 0 0 0 0 0 0 0 0 0 0 0 0 0 0 0 0\n",
            "[NeMo I 2023-09-19 11:02:18 glue_benchmark_dataset:343] segment_ids: 0 0 0 0 0 0 0 0 0 0 0 0 0 0 0 0 0 0 0 0 0 0 0 0 0 0 0 0 0 0 0 0 0 0 0 0 0 0 0 0 0 1 1 1 1 1 1 1 1 1 1 1 1 1 1 1 1 1 1 1 1 1 1 1 1 1 1 1 1 1 1 1 1 1 1 1 1 1 1 1 1 1 1 1 1 1 1 0 0 0 0 0 0 0 0 0 0 0 0 0 0 0 0 0 0 0 0 0 0 0 0 0 0 0 0 0 0 0 0 0 0 0 0 0 0 0 0 0\n",
            "[NeMo I 2023-09-19 11:02:18 glue_benchmark_dataset:344] label: 0 (id = 0)\n",
            "[NeMo I 2023-09-19 11:02:18 glue_benchmark_dataset:338] *** Example ***\n",
            "[NeMo I 2023-09-19 11:02:18 glue_benchmark_dataset:339] guid: dev-4\n",
            "[NeMo I 2023-09-19 11:02:18 glue_benchmark_dataset:340] tokens: [CLS] ▁the ▁afl - cio ▁is ▁waiting ▁until ▁october ▁to ▁decide ▁if ▁it ▁will ▁endorse ▁a ▁candidate ▁ . [SEP] ▁the ▁afl - cio ▁announced ▁wednesday ▁that ▁it ▁will ▁decide ▁in ▁october ▁whether ▁to ▁endorse ▁a ▁candidate ▁before ▁the ▁primaries ▁ . [SEP]\n",
            "[NeMo I 2023-09-19 11:02:18 glue_benchmark_dataset:341] input_ids: 2 14 12166 8 5287 25 1672 163 311 20 4073 100 32 129 26850 21 2316 13 9 3 14 12166 8 5287 703 8885 30 32 129 4073 19 311 1472 20 26850 21 2316 115 14 28585 13 9 3 0 0 0 0 0 0 0 0 0 0 0 0 0 0 0 0 0 0 0 0 0 0 0 0 0 0 0 0 0 0 0 0 0 0 0 0 0 0 0 0 0 0 0 0 0 0 0 0 0 0 0 0 0 0 0 0 0 0 0 0 0 0 0 0 0 0 0 0 0 0 0 0 0 0 0 0 0 0 0 0 0 0 0 0 0\n",
            "[NeMo I 2023-09-19 11:02:18 glue_benchmark_dataset:342] input_mask: 1 1 1 1 1 1 1 1 1 1 1 1 1 1 1 1 1 1 1 1 1 1 1 1 1 1 1 1 1 1 1 1 1 1 1 1 1 1 1 1 1 1 1 0 0 0 0 0 0 0 0 0 0 0 0 0 0 0 0 0 0 0 0 0 0 0 0 0 0 0 0 0 0 0 0 0 0 0 0 0 0 0 0 0 0 0 0 0 0 0 0 0 0 0 0 0 0 0 0 0 0 0 0 0 0 0 0 0 0 0 0 0 0 0 0 0 0 0 0 0 0 0 0 0 0 0 0 0\n",
            "[NeMo I 2023-09-19 11:02:18 glue_benchmark_dataset:343] segment_ids: 0 0 0 0 0 0 0 0 0 0 0 0 0 0 0 0 0 0 0 0 1 1 1 1 1 1 1 1 1 1 1 1 1 1 1 1 1 1 1 1 1 1 1 0 0 0 0 0 0 0 0 0 0 0 0 0 0 0 0 0 0 0 0 0 0 0 0 0 0 0 0 0 0 0 0 0 0 0 0 0 0 0 0 0 0 0 0 0 0 0 0 0 0 0 0 0 0 0 0 0 0 0 0 0 0 0 0 0 0 0 0 0 0 0 0 0 0 0 0 0 0 0 0 0 0 0 0 0\n",
            "[NeMo I 2023-09-19 11:02:18 glue_benchmark_dataset:344] label: 1 (id = 1)\n",
            "[NeMo I 2023-09-19 11:02:18 glue_benchmark_dataset:338] *** Example ***\n",
            "[NeMo I 2023-09-19 11:02:18 glue_benchmark_dataset:339] guid: dev-5\n",
            "[NeMo I 2023-09-19 11:02:18 glue_benchmark_dataset:340] tokens: [CLS] ▁no ▁dates ▁have ▁been ▁set ▁for ▁the ▁civil ▁or ▁the ▁criminal ▁trial ▁ . [SEP] ▁no ▁dates ▁have ▁been ▁set ▁for ▁the ▁criminal ▁or ▁civil ▁cases ▁ , ▁but ▁shan ley ▁has ▁pleaded ▁not ▁guilty ▁ . [SEP]\n",
            "[NeMo I 2023-09-19 11:02:18 glue_benchmark_dataset:341] input_ids: 2 90 4076 57 74 309 26 14 1038 54 14 2977 2178 13 9 3 90 4076 57 74 309 26 14 2977 54 1038 1871 13 15 47 10031 631 63 13364 52 4756 13 9 3 0 0 0 0 0 0 0 0 0 0 0 0 0 0 0 0 0 0 0 0 0 0 0 0 0 0 0 0 0 0 0 0 0 0 0 0 0 0 0 0 0 0 0 0 0 0 0 0 0 0 0 0 0 0 0 0 0 0 0 0 0 0 0 0 0 0 0 0 0 0 0 0 0 0 0 0 0 0 0 0 0 0 0 0 0 0 0 0 0\n",
            "[NeMo I 2023-09-19 11:02:18 glue_benchmark_dataset:342] input_mask: 1 1 1 1 1 1 1 1 1 1 1 1 1 1 1 1 1 1 1 1 1 1 1 1 1 1 1 1 1 1 1 1 1 1 1 1 1 1 1 0 0 0 0 0 0 0 0 0 0 0 0 0 0 0 0 0 0 0 0 0 0 0 0 0 0 0 0 0 0 0 0 0 0 0 0 0 0 0 0 0 0 0 0 0 0 0 0 0 0 0 0 0 0 0 0 0 0 0 0 0 0 0 0 0 0 0 0 0 0 0 0 0 0 0 0 0 0 0 0 0 0 0 0 0 0 0 0 0\n",
            "[NeMo I 2023-09-19 11:02:18 glue_benchmark_dataset:343] segment_ids: 0 0 0 0 0 0 0 0 0 0 0 0 0 0 0 0 1 1 1 1 1 1 1 1 1 1 1 1 1 1 1 1 1 1 1 1 1 1 1 0 0 0 0 0 0 0 0 0 0 0 0 0 0 0 0 0 0 0 0 0 0 0 0 0 0 0 0 0 0 0 0 0 0 0 0 0 0 0 0 0 0 0 0 0 0 0 0 0 0 0 0 0 0 0 0 0 0 0 0 0 0 0 0 0 0 0 0 0 0 0 0 0 0 0 0 0 0 0 0 0 0 0 0 0 0 0 0 0\n",
            "[NeMo I 2023-09-19 11:02:18 glue_benchmark_dataset:344] label: 0 (id = 0)\n",
            "[NeMo I 2023-09-19 11:02:18 glue_benchmark_dataset:174] Saving train features into glue_data/MRPC/cached_MrpcProcessor_dev_AlbertTokenizer_128_30000\n"
          ]
        },
        {
          "data": {
            "application/vnd.jupyter.widget-view+json": {
              "model_id": "1ff32b7fc83449a8b939b7649e092523",
              "version_major": 2,
              "version_minor": 0
            },
            "text/plain": [
              "Downloading model.safetensors:   0%|          | 0.00/47.4M [00:00<?, ?B/s]"
            ]
          },
          "metadata": {},
          "output_type": "display_data"
        },
        {
          "name": "stderr",
          "output_type": "stream",
          "text": [
            "Some weights of the model checkpoint at albert-base-v1 were not used when initializing AlbertModel: ['predictions.LayerNorm.weight', 'predictions.dense.weight', 'predictions.LayerNorm.bias', 'predictions.decoder.bias', 'predictions.bias', 'predictions.dense.bias']\n",
            "- This IS expected if you are initializing AlbertModel from the checkpoint of a model trained on another task or with another architecture (e.g. initializing a BertForSequenceClassification model from a BertForPreTraining model).\n",
            "- This IS NOT expected if you are initializing AlbertModel from the checkpoint of a model that you expect to be exactly identical (initializing a BertForSequenceClassification model from a BertForSequenceClassification model).\n",
            "Some weights of the model checkpoint at albert-base-v1 were not used when initializing AlbertEncoder: ['predictions.LayerNorm.weight', 'predictions.dense.weight', 'predictions.LayerNorm.bias', 'predictions.decoder.bias', 'predictions.bias', 'predictions.dense.bias']\n",
            "- This IS expected if you are initializing AlbertEncoder from the checkpoint of a model trained on another task or with another architecture (e.g. initializing a BertForSequenceClassification model from a BertForPreTraining model).\n",
            "- This IS NOT expected if you are initializing AlbertEncoder from the checkpoint of a model that you expect to be exactly identical (initializing a BertForSequenceClassification model from a BertForSequenceClassification model).\n"
          ]
        }
      ],
      "source": [
        "model = nemo_nlp.models.GLUEModel(cfg=config.model, trainer=trainer)"
      ]
    },
    {
      "cell_type": "markdown",
      "metadata": {
        "colab_type": "text",
        "id": "kQ592Tx4pzyB"
      },
      "source": [
        "## Monitoring training progress\n",
        "Optionally, you can create a Tensorboard visualization to monitor training progress."
      ]
    },
    {
      "cell_type": "code",
      "execution_count": 52,
      "metadata": {
        "colab": {},
        "colab_type": "code",
        "id": "mTJr16_pp0aS"
      },
      "outputs": [
        {
          "name": "stdout",
          "output_type": "stream",
          "text": [
            "To use tensorboard, please use this notebook in a Google Colab environment.\n"
          ]
        }
      ],
      "source": [
        "try:\n",
        "  from google import colab\n",
        "  COLAB_ENV = True\n",
        "except (ImportError, ModuleNotFoundError):\n",
        "  COLAB_ENV = False\n",
        "\n",
        "# Load the TensorBoard notebook extension\n",
        "if COLAB_ENV:\n",
        "  %load_ext tensorboard\n",
        "  %tensorboard --logdir {exp_dir}\n",
        "else:\n",
        "  print(\"To use tensorboard, please use this notebook in a Google Colab environment.\")"
      ]
    },
    {
      "cell_type": "code",
      "execution_count": 53,
      "metadata": {},
      "outputs": [
        {
          "data": {
            "text/html": [
              "\n",
              "      <iframe id=\"tensorboard-frame-958269b53a74437a\" width=\"100%\" height=\"800\" frameborder=\"0\">\n",
              "      </iframe>\n",
              "      <script>\n",
              "        (function() {\n",
              "          const frame = document.getElementById(\"tensorboard-frame-958269b53a74437a\");\n",
              "          const url = new URL(\"/\", window.location);\n",
              "          const port = 6006;\n",
              "          if (port) {\n",
              "            url.port = port;\n",
              "          }\n",
              "          frame.src = url;\n",
              "        })();\n",
              "      </script>\n",
              "    "
            ],
            "text/plain": [
              "<IPython.core.display.HTML object>"
            ]
          },
          "metadata": {},
          "output_type": "display_data"
        }
      ],
      "source": [
        "%load_ext tensorboard\n",
        "%tensorboard --logdir {exp_dir}"
      ]
    },
    {
      "cell_type": "markdown",
      "metadata": {
        "colab_type": "text",
        "id": "CFgAlaIdndjW"
      },
      "source": [
        "Note, it’s recommended to finetune the model on each task separately. Also, based on [GLUE Benchmark FAQ#12](https://gluebenchmark.com/faq), there are might be some differences in dev/test distributions for QQP task and in train/dev for WNLI task."
      ]
    },
    {
      "cell_type": "code",
      "execution_count": 54,
      "metadata": {
        "colab": {},
        "colab_type": "code",
        "id": "hUvnSpyjp0Dh"
      },
      "outputs": [
        {
          "name": "stderr",
          "output_type": "stream",
          "text": [
            "LOCAL_RANK: 0 - CUDA_VISIBLE_DEVICES: [0,1]\n"
          ]
        },
        {
          "name": "stdout",
          "output_type": "stream",
          "text": [
            "[NeMo I 2023-09-19 11:03:37 modelPT:721] Optimizer config = Adam (\n",
            "    Parameter Group 0\n",
            "        amsgrad: False\n",
            "        betas: (0.9, 0.999)\n",
            "        capturable: False\n",
            "        differentiable: False\n",
            "        eps: 1e-08\n",
            "        foreach: None\n",
            "        fused: None\n",
            "        lr: 5e-05\n",
            "        maximize: False\n",
            "        weight_decay: 0.0\n",
            "    )\n",
            "[NeMo I 2023-09-19 11:03:37 lr_scheduler:910] Scheduler \"<nemo.core.optim.lr_scheduler.WarmupAnnealing object at 0x7f92990b2ca0>\" \n",
            "    will be used during training (effective maximum steps = 128) - \n",
            "    Parameters : \n",
            "    (warmup_steps: null\n",
            "    warmup_ratio: 0.1\n",
            "    last_epoch: -1\n",
            "    max_steps: 128\n",
            "    )\n"
          ]
        },
        {
          "name": "stderr",
          "output_type": "stream",
          "text": [
            "\n",
            "  | Name       | Type               | Params\n",
            "--------------------------------------------------\n",
            "0 | bert_model | AlbertEncoder      | 11.7 M\n",
            "1 | pooler     | SequenceClassifier | 592 K \n",
            "2 | loss       | CrossEntropyLoss   | 0     \n",
            "--------------------------------------------------\n",
            "12.3 M    Trainable params\n",
            "0         Non-trainable params\n",
            "12.3 M    Total params\n",
            "24.551    Total estimated model params size (MB)\n"
          ]
        },
        {
          "data": {
            "application/vnd.jupyter.widget-view+json": {
              "model_id": "6b919865730f4e88a7abf3aa7283b60a",
              "version_major": 2,
              "version_minor": 0
            },
            "text/plain": [
              "Sanity Checking: 0it [00:00, ?it/s]"
            ]
          },
          "metadata": {},
          "output_type": "display_data"
        },
        {
          "name": "stderr",
          "output_type": "stream",
          "text": [
            "[NeMo W 2023-09-19 11:03:37 nemo_logging:349] /usr/local/lib/python3.8/dist-packages/pytorch_lightning/trainer/connectors/data_connector.py:224: PossibleUserWarning: The dataloader, val_dataloader 0, does not have many workers which may be a bottleneck. Consider increasing the value of the `num_workers` argument` (try 24 which is the number of cpus on this machine) in the `DataLoader` init to improve performance.\n",
            "      rank_zero_warn(\n",
            "    \n"
          ]
        },
        {
          "name": "stdout",
          "output_type": "stream",
          "text": [
            "[NeMo I 2023-09-19 11:03:38 glue_benchmark_model:210] DEV_ evaluation: {'acc': 0.390625, 'f1': 0.41791044776119407}\n",
            "[NeMo I 2023-09-19 11:03:38 glue_benchmark_model:217] Saving labels and predictions to WORK_DIR/mrpc_DEV_.txt\n"
          ]
        },
        {
          "name": "stderr",
          "output_type": "stream",
          "text": [
            "[NeMo W 2023-09-19 11:03:38 nemo_logging:349] /usr/local/lib/python3.8/dist-packages/pytorch_lightning/trainer/connectors/data_connector.py:224: PossibleUserWarning: The dataloader, train_dataloader, does not have many workers which may be a bottleneck. Consider increasing the value of the `num_workers` argument` (try 24 which is the number of cpus on this machine) in the `DataLoader` init to improve performance.\n",
            "      rank_zero_warn(\n",
            "    \n"
          ]
        },
        {
          "data": {
            "application/vnd.jupyter.widget-view+json": {
              "model_id": "2b836509b1744eb1b37c47ab0be11bbb",
              "version_major": 2,
              "version_minor": 0
            },
            "text/plain": [
              "Training: 0it [00:00, ?it/s]"
            ]
          },
          "metadata": {},
          "output_type": "display_data"
        },
        {
          "name": "stdout",
          "output_type": "stream",
          "text": [
            "[NeMo I 2023-09-19 11:03:38 preemption:56] Preemption requires torch distributed to be initialized, disabling preemption\n"
          ]
        },
        {
          "data": {
            "application/vnd.jupyter.widget-view+json": {
              "model_id": "fb9903ab397349dea64317c73396d9ca",
              "version_major": 2,
              "version_minor": 0
            },
            "text/plain": [
              "Validation: 0it [00:00, ?it/s]"
            ]
          },
          "metadata": {},
          "output_type": "display_data"
        },
        {
          "name": "stdout",
          "output_type": "stream",
          "text": [
            "[NeMo I 2023-09-19 11:03:51 glue_benchmark_model:210] DEV_ evaluation: {'acc': 0.8578431372549019, 'f1': 0.8975265017667844}\n",
            "[NeMo I 2023-09-19 11:03:51 glue_benchmark_model:217] Saving labels and predictions to WORK_DIR/mrpc_DEV_.txt\n"
          ]
        },
        {
          "name": "stderr",
          "output_type": "stream",
          "text": [
            "Epoch 0, global step 115: 'val_loss' reached 0.34774 (best 0.34774), saving model to '/workspace/nemo/nemo_experiments/mrpc/2023-09-19_10-59-17/checkpoints/mrpc--val_loss=0.3477-epoch=0.ckpt' as top 3\n",
            "`Trainer.fit` stopped: `max_steps=128` reached.\n"
          ]
        }
      ],
      "source": [
        "# start model training\n",
        "trainer.fit(model)"
      ]
    },
    {
      "cell_type": "markdown",
      "metadata": {
        "colab_type": "text",
        "id": "ref1qSonGNhP"
      },
      "source": [
        "## Training Script\n",
        "\n",
        "If you have NeMo installed locally, you can also train the model with [examples/nlp/glue_benchmark/glue_benchmark.py](https://github.com/NVIDIA/NeMo/blob/stable/examples/nlp/glue_benchmark/glue_benchmark.py).\n",
        "\n",
        "To run training script, use:\n",
        "\n",
        "`python glue_benchmark.py \\\n",
        " model.dataset.data_dir=PATH_TO_DATA_DIR \\\n",
        " model.task_name=TASK`\n"
      ]
    },
    {
      "cell_type": "markdown",
      "metadata": {
        "colab_type": "text",
        "id": "KVPFofXaoKNE"
      },
      "source": [
        "Average results after 3 runs:\n",
        "\n",
        "| Task  |         Metric           | ALBERT-large | ALBERT-xlarge | Megatron-345m | BERT base paper | BERT large paper |\n",
        "|-------|--------------------------|--------------|---------------|---------------|-----------------|------------------|\n",
        "| CoLA  | Matthew's correlation    |     54.94    |     61.72     |     64.56     |      52.1       |       60.5       |\n",
        "| SST-2 | Accuracy                 |     92.74    |     91.86     |     95.87     |      93.5       |       94.9       |\n",
        "| MRPC  | F1/Accuracy              |  92.05/88.97 |  91.87/88.61  |  92.36/89.46  |      88.9/-     |     89.3/-       |\n",
        "| STS-B | Person/Spearman corr.    |  90.41/90.21 |  90.07/90.10  |  91.51/91.61  |     -/85.8      |      -/86.5      |\n",
        "| QQP   | F1/Accuracy              |  88.26/91.26 |  88.80/91.65  |  89.18/91.91  |     71.2/-      |     72.1/-       |\n",
        "| MNLI  | Matched /Mismatched acc. |  86.69/86.81 |  88.66/88.73  |  89.86/89.81  |    84.6/83.4    |     86.7/85.9    |\n",
        "| QNLI  | Accuracy                 |     92.68    |     93.66     |     94.33     |      90.5       |       92.7       |\n",
        "| RTE   | Accuracy                 |     80.87    |     82.86     |     83.39     |      66.4       |       70.1       |\n",
        "\n",
        "WNLI task was excluded from the experiments due to the problematic WNLI set.\n",
        "The dev sets were used for evaluation for ALBERT and Megatron models, and the test sets results for [the BERT paper](https://arxiv.org/abs/1810.04805).\n",
        "\n",
        "Hyperparameters used to get the results from the above table, could be found in the table below. Some tasks could be further finetuned to improve performance numbers, the tables are for a baseline reference only.\n",
        "Each cell in the table represents the following parameters:\n",
        "Number of GPUs used/ Batch Size/ Learning Rate/ Number of Epochs. For not specified parameters, please refer to the default parameters in the training script.\n",
        "\n",
        "| Task  | ALBERT-large | ALBERT-xlarge | Megatron-345m |\n",
        "|-------|--------------|---------------|---------------|\n",
        "| CoLA  | 1 / 32 / 1e-5 / 3  |  1 / 32 / 1e-5 / 10 |  4 / 16 / 2e-5 / 12 |\n",
        "| SST-2 | 4 / 16 / 2e-5 / 5  |  4 / 16 / 2e-5 /12  |  4 / 16 / 2e-5 / 12 |\n",
        "| MRPC  | 1 / 32 / 1e-5 / 5  |  1 / 16 / 2e-5 / 5  |  1 / 16 / 2e-5 / 10 |\n",
        "| STS-B | 1 / 16 / 2e-5 / 5  |  1 / 16 / 4e-5 / 12 |  4 / 16 / 3e-5 / 12 |\n",
        "| QQP   | 1 / 16 / 2e-5 / 5  | 4 / 16 / 1e-5 / 12  |  4 / 16 / 1e-5 / 12 |\n",
        "| MNLI  | 4 / 64 / 1e-5 / 5  |  4 / 32 / 1e-5 / 5  |  4 / 32 / 1e-5 / 5  | \n",
        "| QNLI  | 4 / 16 / 1e-5 / 5  |  4 / 16 / 1e-5 / 5  |  4 / 16 / 2e-5 / 5  | \n",
        "| RTE   | 1 / 16 / 1e-5 / 5  | 1 / 16 / 1e-5 / 12  |  4 / 16 / 3e-5 / 12 |\n"
      ]
    }
  ],
  "metadata": {
    "accelerator": "GPU",
    "colab": {
      "collapsed_sections": [],
      "name": "GLUE_Benchmark.ipynb",
      "private_outputs": true,
      "provenance": []
    },
    "kernelspec": {
      "display_name": "Python 3 (ipykernel)",
      "language": "python",
      "name": "python3"
    },
    "language_info": {
      "codemirror_mode": {
        "name": "ipython",
        "version": 3
      },
      "file_extension": ".py",
      "mimetype": "text/x-python",
      "name": "python",
      "nbconvert_exporter": "python",
      "pygments_lexer": "ipython3",
      "version": "3.8.10"
    },
    "pycharm": {
      "stem_cell": {
        "cell_type": "raw",
        "metadata": {
          "collapsed": false
        },
        "source": []
      }
    }
  },
  "nbformat": 4,
  "nbformat_minor": 0
}
